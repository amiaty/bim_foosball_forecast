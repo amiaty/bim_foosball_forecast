{
 "cells": [
  {
   "cell_type": "code",
   "execution_count": 22,
   "metadata": {},
   "outputs": [
    {
     "name": "stderr",
     "output_type": "stream",
     "text": [
      "c:\\Users\\AmirAtashinBIM-Conne\\.conda\\envs\\ams\\Lib\\site-packages\\sklearn\\linear_model\\_logistic.py:465: ConvergenceWarning: lbfgs failed to converge (status=1):\n",
      "STOP: TOTAL NO. OF ITERATIONS REACHED LIMIT.\n",
      "\n",
      "Increase the number of iterations (max_iter) or scale the data as shown in:\n",
      "    https://scikit-learn.org/stable/modules/preprocessing.html\n",
      "Please also refer to the documentation for alternative solver options:\n",
      "    https://scikit-learn.org/stable/modules/linear_model.html#logistic-regression\n",
      "  n_iter_i = _check_optimize_result(\n"
     ]
    },
    {
     "data": {
      "text/plain": [
       "['foosball_model_LR.pkl']"
      ]
     },
     "execution_count": 22,
     "metadata": {},
     "output_type": "execute_result"
    }
   ],
   "source": [
    "import pandas as pd\n",
    "from datetime import datetime\n",
    "from sklearn.compose import ColumnTransformer\n",
    "from sklearn.preprocessing import OneHotEncoder\n",
    "from sklearn.pipeline import Pipeline\n",
    "from sklearn.linear_model import LogisticRegression\n",
    "import joblib\n",
    "\n",
    "# Step 1: Load Data & Create Target Variable\n",
    "data = pd.read_csv(\"Foosball.csv\")\n",
    "# Create a binary target: 1 if team1 wins, 0 if team2 wins.\n",
    "data['winner'] = (data['team1Goals'] > data['team2Goals']).astype(int)\n",
    "\n",
    "# Step 2: Engineer the Date Feature\n",
    "# Convert gameDate to datetime and compute days since the first game\n",
    "data['gameDate'] = pd.to_datetime(data['gameDate'])\n",
    "min_date = data['gameDate'].min()\n",
    "data['days_since'] = (data['gameDate'] - min_date).dt.days\n",
    "\n",
    "# Define the features and target\n",
    "features = ['player1Name', 'player2Name', 'player3Name', 'player4Name', 'days_since']\n",
    "target = 'winner'\n",
    "\n",
    "# Step 3: Define a Preprocessing Pipeline\n",
    "player_columns = ['player1Name', 'player2Name', 'player3Name', 'player4Name']\n",
    "date_columns = ['days_since']\n",
    "\n",
    "preprocessor = ColumnTransformer(\n",
    "    transformers=[\n",
    "        # One-hot encode player names; new/unseen players will be ignored during transformation.\n",
    "        ('players', OneHotEncoder(handle_unknown='ignore'), player_columns),\n",
    "        # Pass through the numerical date feature\n",
    "        ('date', 'passthrough', date_columns)\n",
    "    ]\n",
    ")\n",
    "\n",
    "# Step 4: Combine Preprocessing with a Classifier\n",
    "model = Pipeline(steps=[\n",
    "    ('preprocessor', preprocessor),\n",
    "    ('classifier', LogisticRegression())\n",
    "])\n",
    "\n",
    "# Fit the model using the features and target variable\n",
    "X = data[features]\n",
    "y = data[target]\n",
    "model.fit(X, y)\n",
    "\n",
    "# Save the model to a file\n",
    "joblib.dump(model, 'foosball_model_LR.pkl')\n",
    "\n",
    "# For future predictions:\n",
    "# Construct a DataFrame new_data with the same columns as features,\n",
    "# then call model.predict_proba(new_data) to get winning probabilities.\n"
   ]
  },
  {
   "cell_type": "code",
   "execution_count": 23,
   "metadata": {},
   "outputs": [
    {
     "name": "stdout",
     "output_type": "stream",
     "text": [
      "['Bob', 'Lucas', 'Robin', 'Salma', 'Keon', 'Ruby', 'Jeffrey', 'Luuk', 'Hans', 'Lars', 'Cathleen', 'Roel', 'Ilhan', 'Sander', 'Jakko', 'Berkan', 'Amir', 'Ellen', 'Arian', 'Lara', 'Aart-Jan', 'Mohammad', 'Andres', 'Norent', 'Isabella', 'Jeroen']\n"
     ]
    }
   ],
   "source": [
    "all_players_name = set(data[\"player1Name\"].unique().tolist() + data[\"player2Name\"].unique().tolist() + data[\"player3Name\"].unique().tolist() + data[\"player4Name\"].unique().tolist())\n",
    "print(list(all_players_name))"
   ]
  },
  {
   "cell_type": "code",
   "execution_count": 8,
   "metadata": {},
   "outputs": [],
   "source": [
    "df['winner'] = df.apply(lambda row: 'team1' if row['team1Goals'] > row['team2Goals'] else 'team2', axis=1)"
   ]
  },
  {
   "cell_type": "code",
   "execution_count": null,
   "metadata": {},
   "outputs": [],
   "source": []
  }
 ],
 "metadata": {
  "kernelspec": {
   "display_name": "ams",
   "language": "python",
   "name": "python3"
  },
  "language_info": {
   "codemirror_mode": {
    "name": "ipython",
    "version": 3
   },
   "file_extension": ".py",
   "mimetype": "text/x-python",
   "name": "python",
   "nbconvert_exporter": "python",
   "pygments_lexer": "ipython3",
   "version": "3.11.11"
  }
 },
 "nbformat": 4,
 "nbformat_minor": 2
}
